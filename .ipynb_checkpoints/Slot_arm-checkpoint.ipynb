{
 "cells": [
  {
   "cell_type": "code",
   "execution_count": 1,
   "id": "8a916229",
   "metadata": {},
   "outputs": [],
   "source": [
    "import numpy as np\n",
    "import random\n",
    "import math\n",
    "import pandas as pd\n",
    "import matplotlib.pyplot as plt"
   ]
  },
  {
   "cell_type": "code",
   "execution_count": 2,
   "id": "33663194",
   "metadata": {},
   "outputs": [],
   "source": [
    "# 建立環境 (Environment)\n",
    "# 在多臂拉霸機中的環境就是拉桿，以 SlotArm類別 建立拉桿\n",
    "# 拉桿的機率是由我們所指定\n",
    "class SlotArm():\n",
    "    def __init__(self, p):\n",
    "        self.p = p\n",
    "    def draw(self):\n",
    "        if self.p > random.random():\n",
    "            return 1.0\n",
    "        else:\n",
    "            return 0.0"
   ]
  },
  {
   "cell_type": "code",
   "execution_count": 3,
   "id": "6610efd8",
   "metadata": {},
   "outputs": [],
   "source": [
    "# 定義 epsilon-greedy algo.\n",
    "class EpsilonGreedy():\n",
    "    # 初始化 epsilon-greedy\n",
    "    def __init__(self, epsilon):\n",
    "        self.epsilon = epsilon # epsilon：進行 explore, 1-epsilon：進行 exploit\n",
    "    \n",
    "    # 利用 np.zeros() 將試驗次數與價值歸零\n",
    "    def initialize(self, n_arms):\n",
    "        self.n = np.zeros(n_arms) # 各拉桿的試驗次數歸零\n",
    "        self.v = np.zeros(n_arms) # 各拉桿的價值歸零\n",
    "    \n",
    "    # 選擇拉桿\n",
    "    def select_arm(self):\n",
    "        if self.epsilon > random.random():\n",
    "            return np.random.randint(0, len(self.v)) # 隨機選擇拉桿進行探索\n",
    "        else:\n",
    "            return np.argmax(self.v) # 選擇價值最高的拉桿\n",
    "    \n",
    "    # 更新所選拉桿的價值\n",
    "    def update(self, chosen_arm, reward, t):\n",
    "        # 將所選拉桿的試驗次數加 1\n",
    "        self.n[chosen_arm] += 1\n",
    "        # 更新所選拉桿的價值\n",
    "        n = self.n[chosen_arm]\n",
    "        v = self.v[chosen_arm]\n",
    "        self.v[chosen_arm] = ((n-1) / float(n)) * v + (1 / float(n)) * reward\n",
    "    \n",
    "    # 畫圖用\n",
    "    def label(self):\n",
    "        return 'ε-greedy(' + str(self.epsilon)+')'\n",
    "    "
   ]
  },
  {
   "cell_type": "code",
   "execution_count": 10,
   "id": "1b69f466",
   "metadata": {},
   "outputs": [],
   "source": [
    "# 定義 UCB1 algo.\n",
    "class UCB1():\n",
    "    # 利用 np.zeros() 將試驗次數、成功次數與價值歸零\n",
    "    def initialize(self, n_arms):\n",
    "        self.n = np.zeros(n_arms) # 各拉桿的試驗次數\n",
    "        self.w = np.zeros(n_arms) # 各拉桿的成功次數\n",
    "        self.v = np.zeros(n_arms) # 各拉桿的價值\n",
    "        \n",
    "    # 選擇拉桿\n",
    "    def select_arm(self):\n",
    "        for i in range(len(self.n)):\n",
    "            if self.n[i] == 0:\n",
    "                return i # 先將所有拉桿都拉過一次，讓 n 不為 0 -----------------------????????????? i = 0\n",
    "        \n",
    "        return np.argmax(self.v) # 選擇價值最高的拉桿\n",
    "    \n",
    "    # 更新所有拉桿的價值\n",
    "    def update(self, chosen_arm, reward, t):\n",
    "        self.n[chosen_arm] += 1\n",
    "        if reward == 1.0:\n",
    "            self.w[chosen_arm] += 1 # 成功時將所選拉桿的成功次數加 1\n",
    "        for i in range(len(self.n)):\n",
    "            if self.n[i] == 0:\n",
    "                return # 當有試驗次數為 0 的拉桿存在時，不更新價值\n",
    "        for i in range(len(self.v)): # 更新所有拉桿的價值\n",
    "            self.v[i] = self.w[i] / self.n[i] + (2 * math.log(t) / self.n[i]) ** 0.5\n",
    "            \n",
    "    # 畫圖用\n",
    "    def label(self):\n",
    "        return 'ucb1'"
   ]
  },
  {
   "cell_type": "code",
   "execution_count": 15,
   "id": "3063029d",
   "metadata": {},
   "outputs": [],
   "source": [
    "# 定義模擬範例的函式\n",
    "# 建立 play()函式 來進行範例的模擬，並取得遊戲進行的回合數和 reward\n",
    "# 接著將這兩項資訊存成 history\n",
    "def play(algo, arms, num_sims, num_time):\n",
    "    times = np.zeros(num_sims * num_time)\n",
    "    rewards = np.zeros(num_sims * num_time)\n",
    "    \n",
    "    # 開始進行第 1 次、第 2 次... 第 num_sims次範例模擬\n",
    "    for sim in range(num_sims):\n",
    "        algo.initialize(len(arms)) # 初始化演算法\n",
    "        \n",
    "        # 開始每一次模擬的第 1 個、第 2 個... 第 num_time個回合\n",
    "        for time in range(num_time):\n",
    "            \n",
    "            index = sim * num_time + time # 計算索引\n",
    "            \n",
    "            times[index] = time + 1\n",
    "            chosen_arm = algo.select_arm() # 使用指定的 algo 選擇拉桿\n",
    "            reward = arms[chosen_arm].draw() # 計算 reward\n",
    "            rewards[index] = reward\n",
    "            \n",
    "            algo.update(chosen_arm, reward, time+1)\n",
    "            \n",
    "    return [times, rewards]"
   ]
  },
  {
   "cell_type": "code",
   "execution_count": 17,
   "id": "6fdc6557",
   "metadata": {},
   "outputs": [
    {
     "data": {
      "image/png": "[encoded data removed]",
      "text/plain": [
       "<Figure size 432x288 with 1 Axes>"
      ]
     },
     "metadata": {
      "needs_background": "light"
     },
     "output_type": "display_data"
    }
   ],
   "source": [
    "# 執行主程式並繪製圖形\n",
    "# 1. 建立 3 支拉桿，釋出代幣的機率指定為 0.3、0.5 和 0.9\n",
    "# 2. 建立演算法\n",
    "# 3. 進行遊戲模擬\n",
    "# 4. 繪製圖形\n",
    "\n",
    "# Step01 建立拉桿\n",
    "arms = (SlotArm(0.3), SlotArm(0.5), SlotArm(0.9))\n",
    "\n",
    "# Step02 建立演算法\n",
    "algos = (EpsilonGreedy(0.1), UCB1())\n",
    "\n",
    "# Step03 進行遊戲模擬\n",
    "for algo in algos:\n",
    "    results = play(algo, arms, 1000, 250)\n",
    "    \n",
    "    # Step04 繪製圖形\n",
    "    df = pd.DataFrame({'times':results[0], 'rewards':results[1]})\n",
    "    mean = df['rewards'].groupby(df['times']).mean() # 計算每回合的平均 reward\n",
    "    \n",
    "    plt.plot(mean, label = algo.label())\n",
    "    \n",
    "# 繪製圖形\n",
    "plt.xlabel('Step')\n",
    "plt.ylabel('Average Reward')\n",
    "plt.legend(loc='best')\n",
    "plt.show()"
   ]
  },
  {
   "cell_type": "code",
   "execution_count": null,
   "id": "73e49e34",
   "metadata": {},
   "outputs": [],
   "source": []
  }
 ],
 "metadata": {
  "kernelspec": {
   "display_name": "tensorflow",
   "language": "python",
   "name": "tensorflow"
  },
  "language_info": {
   "codemirror_mode": {
    "name": "ipython",
    "version": 3
   },
   "file_extension": ".py",
   "mimetype": "text/x-python",
   "name": "python",
   "nbconvert_exporter": "python",
   "pygments_lexer": "ipython3",
   "version": "3.7.0"
  }
 },
 "nbformat": 4,
 "nbformat_minor": 5
}
