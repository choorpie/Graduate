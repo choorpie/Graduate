{
 "cells": [
  {
   "cell_type": "code",
   "execution_count": 19,
   "id": "ffda13ce",
   "metadata": {},
   "outputs": [],
   "source": [
    "import numpy as np\n",
    "import matplotlib.pyplot as plt\n",
    "from matplotlib import animation"
   ]
  },
  {
   "cell_type": "code",
   "execution_count": 32,
   "id": "20352a2c",
   "metadata": {},
   "outputs": [
    {
     "data": {
      "image/png": "[encoded data removed]",
      "text/plain": [
       "<Figure size 216x216 with 1 Axes>"
      ]
     },
     "metadata": {},
     "output_type": "display_data"
    }
   ],
   "source": [
    "fig = plt.figure(figsize=(3,3))\n",
    "\n",
    "# 製作牆壁(畫線)\n",
    "plt.plot([0,3], [3,3], color='k')\n",
    "plt.plot([0,3], [0,0], color='k')\n",
    "plt.plot([0,0], [0,2], color='k')\n",
    "plt.plot([3,3], [1,3], color='k')\n",
    "plt.plot([1,1], [1,2], color='k')\n",
    "plt.plot([2,3], [2,2], color='k')\n",
    "plt.plot([2,1], [1,1], color='k')\n",
    "plt.plot([2,2], [0,1], color='k')\n",
    "\n",
    "# 製作編號\n",
    "for i in range(3):\n",
    "    for j in range(3):\n",
    "        plt.text(0.5+i, 2.5-j, str(i+j*3), size=20,\n",
    "                ha='center', va='center')\n",
    "        \n",
    "# 製作當前位置的圓圈\n",
    "circle = plt.plot([0.5], [2.5], marker='o', color='#d3d3d3', markersize=40)\n",
    "\n",
    "# 隱藏繪圖區的軸刻度和邊框\n",
    "plt.tick_params(axis='both', which='both', bottom=False,\n",
    "                top=False, labelbottom=False, right=False, left=False, labelleft=False)\n",
    "\n",
    "plt.box(False)"
   ]
  },
  {
   "cell_type": "code",
   "execution_count": 34,
   "id": "e0be3452",
   "metadata": {},
   "outputs": [],
   "source": [
    "theta_0 = np.array([\n",
    "    [np.nan, 1, 1, np.nan],\n",
    "    [np.nan, 1, 1, 1],\n",
    "    [np.nan, np.nan, np.nan, 1],\n",
    "    [1, np.nan, 1, np.nan],\n",
    "    [1, 1, np.nan, np.nan],\n",
    "    [np.nan, np.nan, 1, 1],\n",
    "    [1, 1, np.nan, np.nan],\n",
    "    [np.nan, np.nan, np.nan, 1]\n",
    "])"
   ]
  },
  {
   "cell_type": "code",
   "execution_count": 36,
   "id": "d3fb6d58",
   "metadata": {},
   "outputs": [
    {
     "name": "stdout",
     "output_type": "stream",
     "text": [
      "[[       nan 0.04964481 0.0071809         nan]\n",
      " [       nan 0.46309668 0.75149732 0.45483105]\n",
      " [       nan        nan        nan 0.62142445]\n",
      " [0.85372871        nan 0.14047063        nan]\n",
      " [0.71230361 0.30016797        nan        nan]\n",
      " [       nan        nan 0.69666561 0.99436132]\n",
      " [0.70195591 0.63252903        nan        nan]\n",
      " [       nan        nan        nan 0.58823808]]\n"
     ]
    }
   ],
   "source": [
    "# 設定初始的動作價值函數表\n",
    "[a, b] = theta_0.shape\n",
    "Q = np.random.rand(a, b) * theta_0\n",
    "print(Q)"
   ]
  },
  {
   "cell_type": "code",
   "execution_count": 38,
   "id": "72cb9828",
   "metadata": {},
   "outputs": [],
   "source": [
    "# 以 epsilon機率 隨機探索 或 根據動作價值函數表選擇動作\n",
    "def get_a(s, Q, epsilon, pi_0):\n",
    "    if np.random.rand() < epsilon:\n",
    "        return np.random.choice([0, 1, 2, 3], p=pi_0[s])\n",
    "    else:\n",
    "        return np.nanargmax(Q[s])"
   ]
  },
  {
   "cell_type": "code",
   "execution_count": 39,
   "id": "72b2c0f2",
   "metadata": {},
   "outputs": [],
   "source": [
    "# 根據動作取得下一個狀態\n",
    "def get_next_s(s, a):\n",
    "    if a == 0:\n",
    "        return s - 3\n",
    "    elif a == 1:\n",
    "        return s + 1\n",
    "    elif a == 2:\n",
    "        return s + 3\n",
    "    elif a == 3:\n",
    "        return s - 1"
   ]
  },
  {
   "cell_type": "code",
   "execution_count": null,
   "id": "baa19386",
   "metadata": {},
   "outputs": [],
   "source": []
  }
 ],
 "metadata": {
  "kernelspec": {
   "display_name": "tensorflow",
   "language": "python",
   "name": "tensorflow"
  },
  "language_info": {
   "codemirror_mode": {
    "name": "ipython",
    "version": 3
   },
   "file_extension": ".py",
   "mimetype": "text/x-python",
   "name": "python",
   "nbconvert_exporter": "python",
   "pygments_lexer": "ipython3",
   "version": "3.7.0"
  }
 },
 "nbformat": 4,
 "nbformat_minor": 5
}
