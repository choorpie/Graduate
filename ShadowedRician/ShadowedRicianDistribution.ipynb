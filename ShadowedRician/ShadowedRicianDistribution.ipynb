{
 "cells": [
  {
   "cell_type": "code",
   "execution_count": 1,
   "id": "e8f06c66",
   "metadata": {},
   "outputs": [],
   "source": [
    "import numpy as np\n",
    "import math\n",
    "import scipy.special as sc\n",
    "import copy"
   ]
  },
  {
   "cell_type": "code",
   "execution_count": 2,
   "id": "25751610",
   "metadata": {},
   "outputs": [],
   "source": [
    "def ShadowedRicianDistribution(b, m, Omega, x):\n",
    "    lambda_0 = 1/(2*b)\n",
    "    alpha = (2*b*m)/(2*b*m + Omega)\n",
    "    beta = Omega/(2*b*(2*b*m + Omega))\n",
    "    \n",
    "    # Theoretical PDF\n",
    "    f = np.zeros(len(x))\n",
    "    for k in range(len(x)):\n",
    "        f[k] = (alpha**m)*lambda_0*math.exp(-x[k]*lambda_0)*sc.hyp1f1(m, 1, beta*x[k])\n",
    "    \n",
    "    # Theoretical CDF\n",
    "    F = np.zeros(len(x))\n",
    "    betabylambda = (beta/lambda_0)\n",
    "    \n",
    "    for p in range(len(x)):\n",
    "        sumk = np.zeros(150)\n",
    "        \n",
    "        for n in range(len(sumk)):\n",
    "            sumk[n] = (sc.poch(m, n) / math.factorial(n) / math.gamma(n+1))*(betabylambda**n)*sc.gammainc(n+1, lambda_0*x[p])\n",
    "            \n",
    "        F[p] = np.sum(sumk)\n",
    "        F[p] *= (alpha)**m \n",
    "        \n",
    "    return f, F"
   ]
  },
  {
   "cell_type": "code",
   "execution_count": 3,
   "id": "62b835c8",
   "metadata": {},
   "outputs": [],
   "source": [
    "# def Kummer(a, b, z, maxit):\n",
    "#     \"\"\"\n",
    "#     This function implements 1F1(.;.;.), Confluent Hypergeometric function.\n",
    "    \n",
    "#     INPUTS:\n",
    "#         a = Scalar and complex\n",
    "#         b = Scalar and complex\n",
    "#         z = Scalar and complex\n",
    "#         maxit = Scalar and real number specifying maximum number of iteration.\n",
    "#         Default, maxit = 5\n",
    "        \n",
    "#     Output:\n",
    "#         y = Scalar and complex\n",
    "    \n",
    "#     \"\"\"\n",
    "    \n",
    "#     # Checking Input Arguments ...\n",
    "    \n",
    "#     # Implementation\n",
    "#     ytemp = 1\n",
    "#     for k in range(maxit):\n",
    "#         ytemp = ytemp + sc.poch(a, k) / (sc.poch(b, k) * math.factorial(k))*z**k\n",
    "        \n",
    "#     return ytemp\n",
    "    \n",
    "# # def PochhammerSymbol(x, n):\n",
    "# #     if n == 0:\n",
    "# #         y = 1\n",
    "# #     else\n",
    "# #         for i in range(n):\n",
    "# #             y *= (x + k - 1)\n",
    "            \n",
    "# import scipy.special as sc\n",
    "# # sc.poch(2,4) # PochhammerSymbol\n",
    "# sc.gammainc(0.5, [0, 1, 10, 100])"
   ]
  },
  {
   "cell_type": "code",
   "execution_count": 4,
   "id": "cd8735c2",
   "metadata": {},
   "outputs": [],
   "source": [
    "import random\n",
    "\n",
    "\n",
    "def ShadowedRicianRandGen(b, m, Omega, N, a):\n",
    "    \"\"\"\n",
    "    Stochastic algorithms：Monte Carlo methods.\n",
    "    \n",
    "    Reference: https://stackoverflow.com/questions/25471457/generating-random-numbers-with-a-given-probability-density-function\n",
    "    \n",
    "    This function generates random number according to shadowed Rician\n",
    "    density function.\n",
    "\n",
    "    INPUTS:\n",
    "           b = Scalar (real), Average power of multipath component\n",
    "           m = Scalar (real), Fading severity parameter\n",
    "           Omega = Scalar (real), Average power of LOS component\n",
    "           N = Scalar (real) specifying number of random number to be \n",
    "                   generated\n",
    "    OUTPUTS:\n",
    "           X = Scalar (Column Vector if N > 1) specifying random number\n",
    "               generated using Shadowed Rician distribution function\n",
    "    \"\"\"\n",
    "    # Implementation Starts Here\n",
    "    X = np.zeros(N)\n",
    "    \n",
    "    # Intermediate Variables\n",
    "    alpha = ((2*b*m)/(2*b*m + Omega))\n",
    "    beta = Omega/(2*b*(2*b*m + Omega))\n",
    "    lambda_0 = 1/(2*b)\n",
    "    \n",
    "    # Maximum value of Shadowed Rician value occurs at x = 0\n",
    "    maxfx = (alpha**m) * lambda_0\n",
    "    c = maxfx\n",
    "    # Accept and Reject Algo.\n",
    "    for i in range(N):\n",
    "        accept = False\n",
    "        while accept == False:\n",
    "            U2 = random.uniform(0, c)\n",
    "            U1 = random.uniform(0, a)\n",
    "\n",
    "            fx = (alpha**m)*lambda_0*math.exp(-U1*lambda_0)*sc.hyp1f1(m, 1, beta*U1)\n",
    "\n",
    "            if U2 <= fx:\n",
    "                X[i] = U1\n",
    "                accept = True\n",
    "    return X"
   ]
  },
  {
   "cell_type": "code",
   "execution_count": 5,
   "id": "c3710d92",
   "metadata": {},
   "outputs": [],
   "source": [
    "from scipy.interpolate import interp1d\n",
    "from scipy.signal import savgol_filter\n",
    "def EstimateDistribution(X, x):\n",
    "    \"\"\"\n",
    "    % This function implements estimation of CDF and PDF of one dimensional \n",
    "    % random variables.\n",
    "    %\n",
    "    % INPUTS:\n",
    "    %           X = vector specifying random variables\n",
    "    %           x = vector specifying points for which CDF and PDF has to be\n",
    "    %               evaluated\n",
    "    % OUTPUTS:\n",
    "    %           f = vector specifying estimated PDF of random variable X for\n",
    "    %               points.\n",
    "    %           F = vector specifying estimated CDF of random variable X for\n",
    "    %               points.\n",
    "    \"\"\"\n",
    "    \n",
    "    # Implementation Starts Here\n",
    "    f = np.zeros(len(x))\n",
    "    F = np.zeros(len(x))\n",
    "    h = 0.000000001\n",
    "    \n",
    "    # Estimating CDF by its definition\n",
    "    for m in range(len(x)):\n",
    "        p = 0\n",
    "        q = 0\n",
    "        for n in range(len(x)):\n",
    "            if X[n] <= x[m]:\n",
    "                p = p + 1\n",
    "            else:\n",
    "                q = q + 1\n",
    "\n",
    "        F[m] = p / (p + q)\n",
    "        \n",
    "    # Estimating PDF by differentiation of CDF\n",
    "    fx = interp1d(x, F, kind='cubic')\n",
    "    for k in range(1, len(x)-1):\n",
    "        fxph = fx(x[k] + h)\n",
    "        fxmh = fx(x[k] - h)\n",
    "        f[k] = (fxph - fxmh) / (2*h)\n",
    "    f = savgol_filter(f, 41, 4)\n",
    "    return f, F\n"
   ]
  },
  {
   "cell_type": "code",
   "execution_count": 6,
   "id": "230c469d",
   "metadata": {},
   "outputs": [
    {
     "ename": "NameError",
     "evalue": "name 'b' is not defined",
     "output_type": "error",
     "traceback": [
      "\u001b[1;31m---------------------------------------------------------------------------\u001b[0m",
      "\u001b[1;31mNameError\u001b[0m                                 Traceback (most recent call last)",
      "\u001b[1;32m~\\AppData\\Local\\Temp/ipykernel_13332/32856946.py\u001b[0m in \u001b[0;36m<module>\u001b[1;34m\u001b[0m\n\u001b[0;32m      7\u001b[0m \u001b[1;33m\u001b[0m\u001b[0m\n\u001b[0;32m      8\u001b[0m \u001b[1;31m# Generate Shadowed Rician Random Number\u001b[0m\u001b[1;33m\u001b[0m\u001b[1;33m\u001b[0m\u001b[0m\n\u001b[1;32m----> 9\u001b[1;33m \u001b[0mX\u001b[0m \u001b[1;33m=\u001b[0m \u001b[0mShadowedRicianRandGen\u001b[0m\u001b[1;33m(\u001b[0m\u001b[0mb\u001b[0m\u001b[1;33m,\u001b[0m\u001b[0mm\u001b[0m\u001b[1;33m,\u001b[0m\u001b[0mOmega\u001b[0m\u001b[1;33m,\u001b[0m\u001b[0mN\u001b[0m\u001b[1;33m,\u001b[0m \u001b[0ma\u001b[0m\u001b[1;33m)\u001b[0m\u001b[1;33m\u001b[0m\u001b[0m\n\u001b[0m",
      "\u001b[1;31mNameError\u001b[0m: name 'b' is not defined"
     ]
    }
   ],
   "source": [
    "# # Parameters\n",
    "# N = int(1e4)\n",
    "# b = 0.279\n",
    "# m = 2\n",
    "# Omega = 0.251\n",
    "# a = 10\n",
    "\n",
    "# Generate Shadowed Rician Random Number\n",
    "X = ShadowedRicianRandGen(b,m,Omega,N, a)"
   ]
  },
  {
   "cell_type": "code",
   "execution_count": 7,
   "id": "12ac072e",
   "metadata": {},
   "outputs": [
    {
     "data": {
      "text/plain": [
       "Text(0, 0.5, 'Simulated PDF & CDF')"
      ]
     },
     "execution_count": 7,
     "metadata": {},
     "output_type": "execute_result"
    },
    {
     "data": {
      "image/png": "[encoded data removed]",
      "text/plain": [
       "<Figure size 432x576 with 1 Axes>"
      ]
     },
     "metadata": {
      "needs_background": "light"
     },
     "output_type": "display_data"
    }
   ],
   "source": [
    "import matplotlib.pyplot as plt\n",
    "\n",
    "# Parameters\n",
    "N = int(1e4)\n",
    "b = 0.158\n",
    "m = 19.4\n",
    "Omega = 1.29\n",
    "a = 10\n",
    "\n",
    "X = ShadowedRicianRandGen(b,m,Omega,N,a)\n",
    "# Points for which CDF and PDF are to be evaluated\n",
    "x = np.linspace(0,5,1000)\n",
    "# Estimate PDF and CDF\n",
    "fsim, Fsim = EstimateDistribution(X,x)\n",
    "# Theoretical PDF & CDF\n",
    "fana, Fana = ShadowedRicianDistribution(b,m,Omega,x)\n",
    "# Plot Results\n",
    "plt.figure(figsize=(6, 8))\n",
    "plt.plot(x, fana)\n",
    "plt.plot(x, Fana)\n",
    "plt.scatter(x[10::10], fsim[10::10], marker='x', color='r')\n",
    "plt.scatter(x[10::10], Fsim[10::10], marker='x', color='r')\n",
    "plt.xlim(0,5)\n",
    "plt.ylim(0,1)\n",
    "plt.xlabel('x')\n",
    "plt.ylabel('Simulated PDF & CDF')\n",
    "# str1 = strcat('PDF;','Area = ',num2str(trapz(x,f)))\n",
    "# legend(str1,'CDF','Location','northwest')\n"
   ]
  },
  {
   "cell_type": "code",
   "execution_count": null,
   "id": "19056ff7",
   "metadata": {},
   "outputs": [],
   "source": [
    "N = 1\n",
    "X = ShadowedRicianRandGen(b,m,Omega,N,a)\n",
    "X"
   ]
  },
  {
   "cell_type": "code",
   "execution_count": null,
   "id": "54e1700e",
   "metadata": {},
   "outputs": [],
   "source": []
  }
 ],
 "metadata": {
  "kernelspec": {
   "display_name": "tensorflow",
   "language": "python",
   "name": "tensorflow"
  },
  "language_info": {
   "codemirror_mode": {
    "name": "ipython",
    "version": 3
   },
   "file_extension": ".py",
   "mimetype": "text/x-python",
   "name": "python",
   "nbconvert_exporter": "python",
   "pygments_lexer": "ipython3",
   "version": "3.7.0"
  }
 },
 "nbformat": 4,
 "nbformat_minor": 5
}
